{
 "cells": [
  {
   "cell_type": "code",
   "execution_count": 1,
   "id": "0072eff8-4236-491c-a6bb-01ea5a8d501a",
   "metadata": {
    "tags": []
   },
   "outputs": [],
   "source": [
    "import pandas as pd\n",
    "import numpy as np\n",
    "import os\n",
    "import torch\n",
    "import torch.nn as nn\n",
    "from torch.utils.data import Dataset, DataLoader, random_split"
   ]
  },
  {
   "cell_type": "markdown",
   "id": "319b47d6-9aaf-46a3-b9dc-01ceb09020dd",
   "metadata": {
    "tags": []
   },
   "source": [
    "## Dataloader"
   ]
  },
  {
   "cell_type": "code",
   "execution_count": 5,
   "id": "d9b2e006-d84a-4fc6-9c8e-fc35f1ab1aee",
   "metadata": {
    "tags": []
   },
   "outputs": [],
   "source": [
    "training_path=\"/pscratch/sd/l/lemonboy/PDB70_training_ver_A/pdbs/saxs_r/\""
   ]
  },
  {
   "cell_type": "code",
   "execution_count": 6,
   "id": "4f3f5271-fa34-4699-b023-ab60ea8b58fd",
   "metadata": {
    "tags": []
   },
   "outputs": [],
   "source": [
    "test=os.path.join(training_path,'6LN0_A.pdb.pr.csv')"
   ]
  },
  {
   "cell_type": "code",
   "execution_count": 8,
   "id": "53efd692-9680-4a60-8644-29cca46b07ef",
   "metadata": {
    "tags": []
   },
   "outputs": [
    {
     "data": {
      "text/html": [
       "<div>\n",
       "<style scoped>\n",
       "    .dataframe tbody tr th:only-of-type {\n",
       "        vertical-align: middle;\n",
       "    }\n",
       "\n",
       "    .dataframe tbody tr th {\n",
       "        vertical-align: top;\n",
       "    }\n",
       "\n",
       "    .dataframe thead th {\n",
       "        text-align: right;\n",
       "    }\n",
       "</style>\n",
       "<table border=\"1\" class=\"dataframe\">\n",
       "  <thead>\n",
       "    <tr style=\"text-align: right;\">\n",
       "      <th></th>\n",
       "      <th>r</th>\n",
       "      <th>P(r)</th>\n",
       "    </tr>\n",
       "  </thead>\n",
       "  <tbody>\n",
       "    <tr>\n",
       "      <th>0</th>\n",
       "      <td>0.0</td>\n",
       "      <td>0.000000e+00</td>\n",
       "    </tr>\n",
       "    <tr>\n",
       "      <th>1</th>\n",
       "      <td>0.5</td>\n",
       "      <td>0.000000e+00</td>\n",
       "    </tr>\n",
       "    <tr>\n",
       "      <th>2</th>\n",
       "      <td>1.0</td>\n",
       "      <td>0.000000e+00</td>\n",
       "    </tr>\n",
       "    <tr>\n",
       "      <th>3</th>\n",
       "      <td>1.5</td>\n",
       "      <td>3.420565e-04</td>\n",
       "    </tr>\n",
       "    <tr>\n",
       "      <th>4</th>\n",
       "      <td>2.0</td>\n",
       "      <td>1.758611e-04</td>\n",
       "    </tr>\n",
       "    <tr>\n",
       "      <th>...</th>\n",
       "      <td>...</td>\n",
       "      <td>...</td>\n",
       "    </tr>\n",
       "    <tr>\n",
       "      <th>240</th>\n",
       "      <td>120.0</td>\n",
       "      <td>1.840159e-07</td>\n",
       "    </tr>\n",
       "    <tr>\n",
       "      <th>241</th>\n",
       "      <td>120.5</td>\n",
       "      <td>7.102368e-08</td>\n",
       "    </tr>\n",
       "    <tr>\n",
       "      <th>242</th>\n",
       "      <td>121.0</td>\n",
       "      <td>3.551184e-08</td>\n",
       "    </tr>\n",
       "    <tr>\n",
       "      <th>243</th>\n",
       "      <td>121.5</td>\n",
       "      <td>6.456698e-09</td>\n",
       "    </tr>\n",
       "    <tr>\n",
       "      <th>244</th>\n",
       "      <td>122.0</td>\n",
       "      <td>3.228349e-09</td>\n",
       "    </tr>\n",
       "  </tbody>\n",
       "</table>\n",
       "<p>245 rows × 2 columns</p>\n",
       "</div>"
      ],
      "text/plain": [
       "         r          P(r)\n",
       "0      0.0  0.000000e+00\n",
       "1      0.5  0.000000e+00\n",
       "2      1.0  0.000000e+00\n",
       "3      1.5  3.420565e-04\n",
       "4      2.0  1.758611e-04\n",
       "..     ...           ...\n",
       "240  120.0  1.840159e-07\n",
       "241  120.5  7.102368e-08\n",
       "242  121.0  3.551184e-08\n",
       "243  121.5  6.456698e-09\n",
       "244  122.0  3.228349e-09\n",
       "\n",
       "[245 rows x 2 columns]"
      ]
     },
     "execution_count": 8,
     "metadata": {},
     "output_type": "execute_result"
    }
   ],
   "source": [
    "pd.read_csv(test)"
   ]
  },
  {
   "cell_type": "code",
   "execution_count": 11,
   "id": "7f1319a2-547c-40f3-b7d9-9b67259d19f5",
   "metadata": {
    "tags": []
   },
   "outputs": [],
   "source": [
    "class SAXSDataset(Dataset):\n",
    "    def __init__(self, csv_list):\n",
    "        self.csv_list = csv_list\n",
    "    def __len__(self):\n",
    "        return len(self.csv_list)\n",
    "    def __getitem__(self, idx):\n",
    "        data = pd.read_csv(self.csv_list[idx])\n",
    "        \n",
    "        features = torch.tensor(data['P(r)'].values[1:], dtype=torch.float32)\n",
    "        return features, features"
   ]
  },
  {
   "cell_type": "code",
   "execution_count": 12,
   "id": "38cee295-ea1d-411d-9acf-1afc06bd4b8c",
   "metadata": {
    "tags": []
   },
   "outputs": [],
   "source": [
    "import glob\n",
    "csv_list = glob.glob(training_path+'*.csv')"
   ]
  },
  {
   "cell_type": "code",
   "execution_count": 14,
   "id": "a127b1c3-e25d-41d8-9b65-101dcb7feffb",
   "metadata": {
    "tags": []
   },
   "outputs": [],
   "source": [
    "batch_size = 32\n",
    "shuffle = True\n",
    "validation_split= 0.2"
   ]
  },
  {
   "cell_type": "code",
   "execution_count": 15,
   "id": "d421b94e-4369-4185-bac9-7abd03d9963e",
   "metadata": {
    "tags": []
   },
   "outputs": [],
   "source": [
    "dataset = SAXSDataset(csv_list)"
   ]
  },
  {
   "cell_type": "code",
   "execution_count": 16,
   "id": "9a2d98ad-e246-4c04-824c-4a2baa27b87e",
   "metadata": {
    "tags": []
   },
   "outputs": [],
   "source": [
    "num_samples = len(dataset)\n",
    "num_validation_samples = int(validation_split * num_samples)\n",
    "num_train_samples = num_samples - num_validation_samples"
   ]
  },
  {
   "cell_type": "code",
   "execution_count": 17,
   "id": "6375d892-858e-45d8-9a8f-3d548235bfce",
   "metadata": {
    "tags": []
   },
   "outputs": [],
   "source": [
    "train_dataset, val_dataset = random_split(dataset, [num_train_samples, num_validation_samples])"
   ]
  },
  {
   "cell_type": "code",
   "execution_count": 18,
   "id": "8a0103f2-5639-47d0-a1c3-3cefab709058",
   "metadata": {
    "tags": []
   },
   "outputs": [],
   "source": [
    "train_dataloader = DataLoader(train_dataset, batch_size=batch_size, shuffle=shuffle)\n",
    "val_dataloader = DataLoader(val_dataset, batch_size=batch_size, shuffle=False)"
   ]
  },
  {
   "cell_type": "markdown",
   "id": "f81e3b27-8467-4b64-a0ec-c9c7e24bfb1e",
   "metadata": {},
   "source": [
    "## VAE model"
   ]
  },
  {
   "cell_type": "code",
   "execution_count": 2,
   "id": "129fa37b-aee2-499b-8c38-153b10f428de",
   "metadata": {
    "tags": []
   },
   "outputs": [],
   "source": [
    "class VAE(nn.Module):\n",
    "    # For P(r) the latent_size should be between 6-12. Longer sequence should have a larger\n",
    "    # latent. For testing purpose we will set latent_size as 10\n",
    "    \n",
    "    def __init__(self,input_size=245, hidden_size=20, latent_size=10):\n",
    "        super(VAE, self).__init__()\n",
    "        self.input_size = input_size\n",
    "        self.hidden_size = hidden_size\n",
    "        self.latent_size = latent_size\n",
    "        \n",
    "        self.encoder_conv1 = nn.Conv1d(in_channels=1, out_channels=hidden_size,\n",
    "                                      kernel_size=3, stride=1, padding=1)\n",
    "        self.encoder_maxpool = nn.MaxPool1d(kernal_size=2, stride=2)\n",
    "        self.encoder_fc_mu = nn.Linear(hidden_size, latent_size)\n",
    "        self.encoder_fc_var = nn.Linear(hidden_size, latent_size)\n",
    "        \n",
    "        self.decoder_fc1 = nn.Linear(latent_size, hidden_size)\n",
    "        self.decoder_fc2 = nn.Linear(hidden_size, input_size)\n",
    "        \n",
    "    def encode(self, x):\n",
    "        x = F.relu(self.encoder_conv1(x.unsqueeze(1)))\n",
    "        x = self.encoder_maxpool(x)\n",
    "        mu = self.encoder_fc_mu(x)\n",
    "        log_var self.encoder_fc_var(x)\n",
    "    \n",
    "    def decode(self, z):\n",
    "        z = F.relu(self.decoder_fc1(z))\n",
    "        return torch.sigmoid(self.decoder_fc2(z))\n",
    "    \n",
    "    def forward(self, x):\n",
    "\n",
    "        x_encoded = self.encoder(x)\n",
    "        mu, log_var = self.fc_mu(x_encoded), self.fc_var(x_encoded)\n",
    "\n",
    "        std = torch.exp(log_var / 2)\n",
    "        q = torch.distributions.Normal(mu, std)\n",
    "        z = q.rsample()\n",
    "        \n",
    "        x_hat = self.decoder(z)\n",
    "        "
   ]
  },
  {
   "cell_type": "code",
   "execution_count": 4,
   "id": "a90e913c-5cac-4a02-8abc-01412d1b7e69",
   "metadata": {
    "tags": []
   },
   "outputs": [],
   "source": []
  },
  {
   "cell_type": "markdown",
   "id": "4e1759fc-29f3-4239-a3c7-1b73b942610e",
   "metadata": {},
   "source": [
    "## Training"
   ]
  },
  {
   "cell_type": "code",
   "execution_count": null,
   "id": "46234388-5579-4819-8e55-bc97b58c4c47",
   "metadata": {},
   "outputs": [],
   "source": [
    "for batch_id, (data, target) in enumerate(train_dataloader):\n",
    "    print(f'Training Batch {batch_idx}: Data shape: {data.shape}, Target shape: {target.shape}')"
   ]
  }
 ],
 "metadata": {
  "kernelspec": {
   "display_name": "Alphaflow",
   "language": "python",
   "name": "env"
  },
  "language_info": {
   "codemirror_mode": {
    "name": "ipython",
    "version": 3
   },
   "file_extension": ".py",
   "mimetype": "text/x-python",
   "name": "python",
   "nbconvert_exporter": "python",
   "pygments_lexer": "ipython3",
   "version": "3.9.18"
  }
 },
 "nbformat": 4,
 "nbformat_minor": 5
}
