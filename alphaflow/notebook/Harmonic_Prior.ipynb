{
 "cells": [
  {
   "cell_type": "code",
   "execution_count": 1,
   "id": "1b29c2bb-d97d-4025-ad3b-fce55987b75b",
   "metadata": {
    "tags": []
   },
   "outputs": [],
   "source": [
    "import pandas as pd\n",
    "import numpy as np\n",
    "import os\n",
    "import torch\n",
    "import torch.nn as nn\n",
    "from torch.utils.data import Dataset, DataLoader, random_split\n",
    "import lightning as L"
   ]
  },
  {
   "cell_type": "code",
   "execution_count": 118,
   "id": "01310f61-28ec-4d97-8620-67cb46ce4568",
   "metadata": {
    "tags": []
   },
   "outputs": [],
   "source": [
    "class HarmonicPrior(nn.Module):\n",
    "    def __init__(self, hidden_features, output_dim=256):\n",
    "        super().__init__()\n",
    "        self.channels=hidden_features\n",
    "        self.q = nn.Linear(1, hidden_features)\n",
    "        self.k = nn.Linear(1, hidden_features)\n",
    "        self.v = nn.Linear(1, hidden_features)\n",
    "        self.out_layer = nn.Linear(hidden_features, output_dim)\n",
    "        self.orthognal_vector = nn.utils.parametrizations.orthogonal(nn.Linear(output_dim,output_dim))\n",
    "        self.background = Fixed_Prior().fixed_background()\n",
    "    def forward(self, x):\n",
    "        h_ = x[:, :, np.newaxis]\n",
    "        q = self.q(h_)\n",
    "        k = self.k(h_)\n",
    "        v = self.v(h_)\n",
    "        w_ = torch.bmm(q,k.permute(0,2,1))\n",
    "        w_ = w_ * (self.channels**(-0.5))\n",
    "        w_ = torch.nn.functional.softmax(w_,dim=2)\n",
    "        h_ = torch.bmm(w_,v)\n",
    "        h_ = self.out_layer(h_)\n",
    "        h_ = torch.matmul(x.unsqueeze(1),h_)\n",
    "        h_ = h_.squeeze(1)\n",
    "        h_ = nn.ReLU()(h_)\n",
    "        h_inv = 1/h_\n",
    "        h_inv[0] = 0 \n",
    "        Q = self.orthognal_vector.weight\n",
    "        return torch.matmul(Q,torch.sqrt(h_inv).T).T + self.background\n",
    "\n",
    "class Fixed_Prior:\n",
    "    def __init__(self, N = 256, a =3/(3.8**2)):\n",
    "        J = torch.zeros(N, N)\n",
    "        for i, j in zip(np.arange(N-1), np.arange(1, N)):\n",
    "            J[i,i] += a\n",
    "            J[j,j] += a\n",
    "            J[i,j] = J[j,i] = -a\n",
    "        D, P = torch.linalg.eigh(J)\n",
    "        D_inv = 1/D\n",
    "        D_inv[0] = 0\n",
    "        self.P, self.D_inv = P, D_inv\n",
    "        self.N = N\n",
    "\n",
    "    def to(self, device):\n",
    "        self.P = self.P.to(device)\n",
    "        self.D_inv = self.D_inv.to(device)\n",
    "        \n",
    "    def fixed_background(self):\n",
    "        return torch.matmul(self.P,torch.sqrt(self.D_inv))\n",
    "\n",
    "    def sample(self, batch_dims=()):\n",
    "        return self.P @ (torch.sqrt(self.D_inv)[:,None] * torch.randn(*batch_dims, self.N, 3, device=self.P.device))"
   ]
  },
  {
   "cell_type": "code",
   "execution_count": 105,
   "id": "d0327e3e-b046-4db2-b916-4a239bb80b7a",
   "metadata": {
    "tags": []
   },
   "outputs": [],
   "source": [
    "training_path=\"/pscratch/sd/l/lemonboy/PDB70_training_ver_A/eigenvalue_training/saxs_r/\""
   ]
  },
  {
   "cell_type": "code",
   "execution_count": 106,
   "id": "8a1c5688-2e7b-44c6-acd8-146109dabd8a",
   "metadata": {
    "tags": []
   },
   "outputs": [],
   "source": [
    "class SAXSDataset(Dataset):\n",
    "    def __init__(self, csv_list):\n",
    "        self.csv_list = csv_list\n",
    "        \n",
    "    def __len__(self):\n",
    "        return len(self.csv_list)\n",
    "    def __getitem__(self, idx):\n",
    "        data = pd.read_csv(self.csv_list[idx])\n",
    "        # The first point is always zero so I didn't include it into the dataset\n",
    "        features = torch.tensor(np.pad(data['P(r)'].values[1:], (0, 512-len(data['P(r)'].values[1:])),constant_values=(0,0)), dtype=torch.float32)\n",
    "        return features, features"
   ]
  },
  {
   "cell_type": "code",
   "execution_count": 107,
   "id": "57819c4f-a81d-4832-ae3f-3c134676b0ac",
   "metadata": {
    "tags": []
   },
   "outputs": [
    {
     "name": "stdout",
     "output_type": "stream",
     "text": [
      "0 tensor([[0.0000e+00, 1.4657e-04, 7.2678e-04,  ..., 0.0000e+00, 0.0000e+00,\n",
      "         0.0000e+00],\n",
      "        [0.0000e+00, 0.0000e+00, 5.1920e-04,  ..., 0.0000e+00, 0.0000e+00,\n",
      "         0.0000e+00],\n",
      "        [2.5383e-05, 1.7276e-04, 1.4588e-03,  ..., 0.0000e+00, 0.0000e+00,\n",
      "         0.0000e+00],\n",
      "        ...,\n",
      "        [0.0000e+00, 8.2172e-06, 2.2053e-03,  ..., 0.0000e+00, 0.0000e+00,\n",
      "         0.0000e+00],\n",
      "        [0.0000e+00, 0.0000e+00, 6.9484e-04,  ..., 0.0000e+00, 0.0000e+00,\n",
      "         0.0000e+00],\n",
      "        [0.0000e+00, 0.0000e+00, 2.9972e-04,  ..., 0.0000e+00, 0.0000e+00,\n",
      "         0.0000e+00]]) tensor([[0.0000e+00, 1.4657e-04, 7.2678e-04,  ..., 0.0000e+00, 0.0000e+00,\n",
      "         0.0000e+00],\n",
      "        [0.0000e+00, 0.0000e+00, 5.1920e-04,  ..., 0.0000e+00, 0.0000e+00,\n",
      "         0.0000e+00],\n",
      "        [2.5383e-05, 1.7276e-04, 1.4588e-03,  ..., 0.0000e+00, 0.0000e+00,\n",
      "         0.0000e+00],\n",
      "        ...,\n",
      "        [0.0000e+00, 8.2172e-06, 2.2053e-03,  ..., 0.0000e+00, 0.0000e+00,\n",
      "         0.0000e+00],\n",
      "        [0.0000e+00, 0.0000e+00, 6.9484e-04,  ..., 0.0000e+00, 0.0000e+00,\n",
      "         0.0000e+00],\n",
      "        [0.0000e+00, 0.0000e+00, 2.9972e-04,  ..., 0.0000e+00, 0.0000e+00,\n",
      "         0.0000e+00]])\n"
     ]
    }
   ],
   "source": [
    "import glob\n",
    "csv_list = glob.glob(training_path+'*.csv')\n",
    "batch_size = 32\n",
    "shuffle = True\n",
    "validation_split = 0.2\n",
    "dataset = SAXSDataset(csv_list)\n",
    "num_samples = len(dataset)\n",
    "num_validation_samples = int(validation_split * num_samples)\n",
    "num_train_samples = num_samples - num_validation_samples\n",
    "train_dataset, val_dataset = random_split(dataset, [num_train_samples, num_validation_samples])\n",
    "train_dataloader = DataLoader(train_dataset, batch_size=batch_size, shuffle=shuffle)\n",
    "val_dataloader = DataLoader(val_dataset, batch_size=batch_size, shuffle=False)\n",
    "device=torch.device(\"cuda\")\n",
    "for batch_id,(data,target) in enumerate(train_dataloader):\n",
    "    print(batch_id,data,target)\n",
    "    break"
   ]
  },
  {
   "cell_type": "code",
   "execution_count": 114,
   "id": "a9c9be85-f79c-467d-bfb7-12fcb5703543",
   "metadata": {
    "tags": []
   },
   "outputs": [],
   "source": [
    "learning_rate = 1e-3\n",
    "loss_fn = nn.CrossEntropyLoss()\n",
    "model = HarmonicPrior(64,256)\n",
    "optimizer = torch.optim.Adam(model.parameters(), lr=learning_rate)"
   ]
  },
  {
   "cell_type": "code",
   "execution_count": 116,
   "id": "6fc90c3d-1c11-443f-8b51-6e55200fc24e",
   "metadata": {
    "tags": []
   },
   "outputs": [
    {
     "name": "stdout",
     "output_type": "stream",
     "text": [
      "torch.Size([2, 256])\n",
      "torch.Size([256, 256])\n",
      "torch.Size([256])\n"
     ]
    },
    {
     "data": {
      "text/plain": [
       "torch.Size([2, 256])"
      ]
     },
     "execution_count": 116,
     "metadata": {},
     "output_type": "execute_result"
    }
   ],
   "source": [
    "model(data[0:2]).shape"
   ]
  },
  {
   "cell_type": "code",
   "execution_count": 123,
   "id": "218c1099-2016-47ac-85bf-703563186999",
   "metadata": {},
   "outputs": [],
   "source": [
    "test=Fixed_Prior()"
   ]
  },
  {
   "cell_type": "code",
   "execution_count": 128,
   "id": "3b5ea978-cbde-4529-8f59-d1925acd7dba",
   "metadata": {
    "tags": []
   },
   "outputs": [
    {
     "data": {
      "text/plain": [
       "<bound method Fixed_Prior.fixed_background of <__main__.Fixed_Prior object at 0x7fa982b89a90>>"
      ]
     },
     "execution_count": 128,
     "metadata": {},
     "output_type": "execute_result"
    }
   ],
   "source": [
    "test.fixed_background"
   ]
  },
  {
   "cell_type": "code",
   "execution_count": 127,
   "id": "f42b5f7b-7cab-4873-b7c4-7cab49a870b2",
   "metadata": {
    "tags": []
   },
   "outputs": [
    {
     "data": {
      "text/plain": [
       "torch.Size([256, 3])"
      ]
     },
     "execution_count": 127,
     "metadata": {},
     "output_type": "execute_result"
    }
   ],
   "source": [
    "test.sample().shape"
   ]
  },
  {
   "cell_type": "code",
   "execution_count": null,
   "id": "61ed5a0c-b848-4db0-9bfc-6a6c86b7e376",
   "metadata": {},
   "outputs": [],
   "source": []
  }
 ],
 "metadata": {
  "kernelspec": {
   "display_name": "Alphaflow",
   "language": "python",
   "name": "env"
  },
  "language_info": {
   "codemirror_mode": {
    "name": "ipython",
    "version": 3
   },
   "file_extension": ".py",
   "mimetype": "text/x-python",
   "name": "python",
   "nbconvert_exporter": "python",
   "pygments_lexer": "ipython3",
   "version": "3.9.18"
  }
 },
 "nbformat": 4,
 "nbformat_minor": 5
}
